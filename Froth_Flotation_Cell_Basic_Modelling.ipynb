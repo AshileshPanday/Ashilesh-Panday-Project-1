{
  "cells": [
    {
      "cell_type": "code",
      "execution_count": null,
      "metadata": {
        "colab": {
          "base_uri": "https://localhost:8080/"
        },
        "id": "Ge33pqeFktTH",
        "outputId": "97c559c5-f282-4a57-d9d5-0a7bf72a91ec"
      },
      "outputs": [
        {
          "output_type": "execute_result",
          "data": {
            "text/plain": [
              "0.5950413223140496"
            ]
          },
          "metadata": {},
          "execution_count": 6
        }
      ],
      "source": [
        "Rmax=0.6\n",
        "Residence_time = 20\n",
        "N_cells = 2\n",
        "Recovery = Rmax*(1-(1/(1+0.3*((Residence_time)**(N_cells)))))\n",
        "Recovery"
      ]
    },
    {
      "cell_type": "code",
      "execution_count": null,
      "metadata": {
        "colab": {
          "base_uri": "https://localhost:8080/"
        },
        "id": "XB7s6FY_qwY1",
        "outputId": "00a1001b-505e-4630-efa7-a1898bd7bdbc"
      },
      "outputs": [
        {
          "output_type": "stream",
          "name": "stdout",
          "text": [
            "`gtol` termination condition is satisfied.\n",
            "Number of iterations: 19, function evaluations: 18, CG iterations: 28, optimality: 1.46e-11, constraint violation: 0.00e+00, execution time: 0.064 s.\n",
            "88040.4675005202\n",
            "[9.00000204 2.00000045 1.00000023]\n"
          ]
        }
      ],
      "source": [
        "import scipy.optimize as optimize\n",
        "from scipy.optimize import Bounds\n",
        "from scipy.optimize import LinearConstraint\n",
        "from scipy.optimize import NonlinearConstraint\n",
        "import autograd.numpy as numpy\n",
        "from autograd import grad, jacobian\n",
        "from scipy.optimize import BFGS\n",
        "from scipy.optimize import minimize\n",
        "import numpy as np\n",
        "volume = 0\n",
        "N_splits = 0\n",
        "N_cells = 0\n",
        "Rmax = 0.6\n",
        "param = [volume, N_splits, N_cells]\n",
        "def cost_CP(param):\n",
        "   return 711.8841*param[0]*param[1]*param[2] + 4179.24965*param[0]*param[1]*param[2]   #-> make volume, split and cells into 1 vector and use x[0] to refer to volume, x[1] to refer to N_splits and x[2] to refer to N_cells\n",
        "                                                                                    #gradient_cost = grad(cost_CP)\n",
        "                                                                                    #jacobian_cost = jacobian(cost_CP)\n",
        "                                                                                    #print(jacobian_cost)\n",
        "def recovery(param):\n",
        "  return Rmax*(1-(1/(1+0.3*((param[0]/2)**(N_cells)))))\n",
        "def jacobian_matrix(param):\n",
        "  return [711.8841*param[1]*param[2] + 4179.24965*param[1]*param[2], 711.8841*param[0]*param[2] + 4179.24965*param[0]*param[2], 711.8841*param[0]*param[1] \n",
        "           + 4179.24965*param[0]*param[1]]\n",
        "\n",
        "non_linear_constraint = NonlinearConstraint(cost_CP, 0,500000, jac = jacobian_matrix, hess=BFGS())\n",
        "\n",
        "bounds = Bounds([9,2,1], [100,5,10])\n",
        "\n",
        "#optimize starts here\n",
        "\n",
        "initial_guess = np.array([9,2,5])\n",
        "result = minimize(cost_CP, initial_guess,method='trust-constr', jac=jacobian_matrix, hess = BFGS(), constraints=non_linear_constraint\n",
        "                  , options={'verbose':1}, bounds=bounds)\n",
        "print(result.fun)\n",
        "print(result.x)\n"
      ]
    },
    {
      "cell_type": "code",
      "source": [
        "#assumptions: \n",
        "#same amount (5wt.% of solids is exiting every tank)   -> need to take into consideration -> need function of solid% removal at outlet tank.\n",
        "#bubble size distribution is the same, bitumen attaches uniformly throughout the tank, does not affect solid removal\n",
        "#all tanks have same volume\n",
        "\n",
        "import scipy.optimize as optimize\n",
        "from scipy.optimize import Bounds\n",
        "from scipy.optimize import LinearConstraint\n",
        "from scipy.optimize import NonlinearConstraint\n",
        "import autograd.numpy as numpy\n",
        "from autograd import grad, jacobian\n",
        "from scipy.optimize import BFGS\n",
        "from scipy.optimize import minimize\n",
        "import numpy as np\n",
        "Rmax = 0.6\n",
        "#param = [volume, N_splits, N_cells]\n",
        "param = np.array([10,0,0])\n",
        "def cost_CP(param):\n",
        "   return 711.8841*param[0]*param[1]*param[2] + 4179.24965*param[0]*param[1]*param[2]   #-> make volume, split and cells into 1 vector and use x[0] to refer to volume, x[1] to refer to N_splits and x[2] to refer to N_cells\n",
        "                                                                                    #gradient_cost = grad(cost_CP)\n",
        "                                                                                    #jacobian_cost = jacobian(cost_CP)\n",
        "                                                                                    #print(jacobian_cost)\n",
        "def recovery(param):\n",
        "  return (Rmax*(1-(1/(1+0.3*((param[0]/2)**(param[2]))))))\n",
        "def jacobian_matrix(param):\n",
        "  return [711.8841*param[1]*param[2] + 4179.24965*param[1]*param[2], 711.8841*param[0]*param[2] + 4179.24965*param[0]*param[2], 711.8841*param[0]*param[1] \n",
        "           + 4179.24965*param[0]*param[1]]\n",
        "\n",
        "non_linear_constraint1 = NonlinearConstraint(recovery,0.59,0.6, jac = '2-point', hess=BFGS())     #forcing recovery% to stay in between 0.59-0.5999 -> all values change by a large margin when narrowing down recovery% bounds\n",
        "\n",
        "#non_linear_constraint2 = NonlinearConstraint(cost_CP,0,500000, jac = jacobian_matrix, hess=BFGS())\n",
        "#new_recovery = -1*recovery(param)\n",
        "\n",
        "bounds = Bounds([3,2,2], [100,20,20])  #->if N_splits=0 then all values including cost converge to 0\n",
        "\n",
        "#optimize starts here\n",
        "\n",
        "initial_guess = np.array([1,1,1])\n",
        "result = minimize(cost_CP,initial_guess ,method='trust-constr', jac='2-point', hess = BFGS(), constraints=non_linear_constraint1\n",
        "                  , options={'verbose':1}, bounds=bounds)\n",
        "#result = minimize(cost_CP,initial_guess ,method='trust-constr', jac=jacobian_matrix, hess = BFGS(), constraints=[non_linear_constraint1, non_linear_constraint2]\n",
        "#                  , options={'verbose':1}, bounds=bounds)\n",
        "residence_time = (int(result.x[0]))/(2/int(result.x[1]))\n",
        "print(result.fun)\n",
        "print(result.x)\n",
        "print(result)\n",
        "print(residence_time)"
      ],
      "metadata": {
        "colab": {
          "base_uri": "https://localhost:8080/"
        },
        "id": "u7aa9J1IJFhF",
        "outputId": "d391b12c-0e60-46e1-fe99-c519e0f695c3"
      },
      "execution_count": null,
      "outputs": [
        {
          "output_type": "stream",
          "name": "stdout",
          "text": [
            "`gtol` termination condition is satisfied.\n",
            "Number of iterations: 137, function evaluations: 528, CG iterations: 149, optimality: 3.95e-09, constraint violation: 0.00e+00, execution time: 0.33 s.\n",
            "280880.8553573119\n",
            "[5.43656385 2.         5.28151006]\n",
            " barrier_parameter: 5.120000000000003e-08\n",
            " barrier_tolerance: 5.120000000000003e-08\n",
            "          cg_niter: 149\n",
            "      cg_stop_cond: 4\n",
            "            constr: [array([0.59]), array([5.43656385, 2.        , 5.28151006])]\n",
            "       constr_nfev: [528, 0]\n",
            "       constr_nhev: [0, 0]\n",
            "       constr_njev: [0, 0]\n",
            "    constr_penalty: 148502.25853490972\n",
            "  constr_violation: 0.0\n",
            "    execution_time: 0.3304312229156494\n",
            "               fun: 280880.8553573119\n",
            "              grad: array([ 51665.14424313, 140440.42773438,  53181.92193904])\n",
            "               jac: [array([[0.00955288, 0.        , 0.00983333]]), array([[1., 0., 0.],\n",
            "       [0., 1., 0.],\n",
            "       [0., 0., 1.]])]\n",
            "   lagrangian_grad: array([-3.95287069e-09,  0.00000000e+00,  3.82269491e-09])\n",
            "           message: '`gtol` termination condition is satisfied.'\n",
            "            method: 'tr_interior_point'\n",
            "              nfev: 528\n",
            "              nhev: 0\n",
            "               nit: 137\n",
            "             niter: 137\n",
            "              njev: 132\n",
            "        optimality: 3.95287069114645e-09\n",
            "            status: 1\n",
            "           success: True\n",
            "         tr_radius: 0.1\n",
            "                 v: [array([-5408330.59463655]), array([-1.98071823e-08, -1.40440428e+05, -1.24972780e-08])]\n",
            "                 x: array([5.43656385, 2.        , 5.28151006])\n",
            "5.0\n"
          ]
        }
      ]
    },
    {
      "cell_type": "code",
      "source": [
        "#assumptions: \n",
        "#same amount (5wt.% of solids is exiting every tank)   -> need to take into consideration -> need function of solid% removal at outlet tank.\n",
        "#bubble size distribution is the same, bitumen attaches uniformly throughout the tank, does not affect solid removal\n",
        "#all tanks have same volume\n",
        "\n",
        "import scipy.optimize as optimize\n",
        "from scipy.optimize import Bounds\n",
        "from scipy.optimize import LinearConstraint\n",
        "from scipy.optimize import NonlinearConstraint\n",
        "import autograd.numpy as numpy\n",
        "from autograd import grad, jacobian\n",
        "from scipy.optimize import BFGS\n",
        "from scipy.optimize import minimize\n",
        "import numpy as np\n",
        "Rmax = 0.6\n",
        "#param = [volume, N_splits, N_cells]\n",
        "param = np.array([10000,0,0])\n",
        "def cost_CP(param):\n",
        "   return 711.8841*param[0]*param[1]*param[2] + 4179.24965*param[0]*param[1]*param[2]   #-> make volume, split and cells into 1 vector and use x[0] to refer to volume, x[1] to refer to N_splits and x[2] to refer to N_cells\n",
        "                                                                                    #gradient_cost = grad(cost_CP)\n",
        "                                                                                    #jacobian_cost = jacobian(cost_CP)\n",
        "                                                                                    #print(jacobian_cost)\n",
        "def recovery(param):\n",
        "  return (Rmax*(1-(1/(1+0.3*((param[0]/(2/param[1]))**(param[2]))))))\n",
        "def jacobian_matrix(param):\n",
        "  return [711.8841*param[1]*param[2] + 4179.24965*param[1]*param[2], 711.8841*param[0]*param[2] + 4179.24965*param[0]*param[2], 711.8841*param[0]*param[1] \n",
        "           + 4179.24965*param[0]*param[1]]\n",
        "def residence_time(param):\n",
        "  return param[0]/(2*param[1])\n",
        "def nonlinearconstraint(param):\n",
        "  return [711.8841*param[0]*param[1]*param[2] + 4179.24965*param[0]*param[1]*param[2], Rmax*(1-(1/(1+0.3*((param[0]/(2/param[1]))**(param[2])))))]\n",
        "def linearconstraint(param):\n",
        "  return param[0]-1442*param[1]\n",
        "non_linear_constraint1 = NonlinearConstraint(recovery,0.59,0.6, jac = '2-point', hess=BFGS())     #forcing recovery% to stay in between 0.59-0.5999 -> all values change by a large margin when narrowing down recovery% bounds\n",
        "non_linear_constraint3 = NonlinearConstraint(residence_time, 50,600, jac = '2-point', hess=BFGS())\n",
        "non_linear_constraint2 = NonlinearConstraint(cost_CP,0,500000, jac = jacobian_matrix, hess=BFGS())\n",
        "#new_recovery = -1*recovery(param)\n",
        "non_linear_constraint_true = NonlinearConstraint(nonlinearconstraint, [0,0.59],[50000,0.6], jac = '2-point', hess=BFGS())\n",
        "linear_constraint = LinearConstraint([[1,-1442,0]], 0, 4000)\n",
        "bounds = Bounds([3,1,1], [400,10,10])  #->if N_splits=0 then all values including cost converge to 0\n",
        "\n",
        "#optimize starts here\n",
        "\n",
        "initial_guess = np.array([1,1,1])\n",
        "#result = minimize(cost_CP,initial_guess ,method='trust-constr', jac='2-point', hess = BFGS(), constraints=[non_linear_constraint_true, linear_constraint]\n",
        "#                  , options={'verbose':1}, bounds=bounds)\n",
        "result = minimize(cost_CP,initial_guess ,method='trust-constr', jac=jacobian_matrix, hess = BFGS(), constraints=[non_linear_constraint1]\n",
        "                  , options={'verbose':1}, bounds=bounds)\n",
        "#if result.x[1]<=1:\n",
        " # result.x[1]=1\n",
        "#elif result.x[1]>=1.5 & result.x[1]<=2.5:\n",
        " # result.x[1]=2\n",
        "#elif result.x[1]>2.5 & result.x[1]<=3.5:\n",
        " # result.x[1]=3\n",
        "residence_time = result.x[0].astype(int)/((2/result.x[1].astype(int)))\n",
        "print(result.fun)\n",
        "print(result.x.astype(int))\n",
        "print(result)\n",
        "print(residence_time)"
      ],
      "metadata": {
        "id": "0cnIpI-4DEuB",
        "colab": {
          "base_uri": "https://localhost:8080/"
        },
        "outputId": "3f6119df-88e0-4648-e2e3-9b88e3caa970"
      },
      "execution_count": null,
      "outputs": [
        {
          "output_type": "stream",
          "name": "stdout",
          "text": [
            "`xtol` termination condition is satisfied.\n",
            "Number of iterations: 245, function evaluations: 259, CG iterations: 333, optimality: 1.60e-03, constraint violation: 0.00e+00, execution time: 0.52 s.\n",
            "140440.42847836093\n",
            "[5 1 5]\n",
            " barrier_parameter: 2.048000000000001e-09\n",
            " barrier_tolerance: 2.048000000000001e-09\n",
            "          cg_niter: 333\n",
            "      cg_stop_cond: 4\n",
            "            constr: [array([0.59]), array([5.40469544, 1.00589626, 5.28151097])]\n",
            "       constr_nfev: [1036, 0]\n",
            "       constr_nhev: [0, 0]\n",
            "       constr_njev: [0, 0]\n",
            "    constr_penalty: 1.0\n",
            "  constr_violation: 0.0\n",
            "    execution_time: 0.5236139297485352\n",
            "               fun: 140440.42847836093\n",
            "              grad: array([ 25984.89223031, 139617.20865665,  26590.95650273])\n",
            "               jac: [array([[0.00960921, 0.05163043, 0.00983333]]), array([[1., 0., 0.],\n",
            "       [0., 1., 0.],\n",
            "       [0., 0., 1.]])]\n",
            "   lagrangian_grad: array([-1.59949015e-03, -3.29202548e-07,  1.56476302e-03])\n",
            "           message: '`xtol` termination condition is satisfied.'\n",
            "            method: 'tr_interior_point'\n",
            "              nfev: 259\n",
            "              nhev: 0\n",
            "               nit: 245\n",
            "             niter: 245\n",
            "              njev: 259\n",
            "        optimality: 0.001599490151542608\n",
            "            status: 2\n",
            "           success: True\n",
            "         tr_radius: 1.0000000000000005e-09\n",
            "                 v: [array([-2704165.51382205]), array([ 0.00027662,  0.00946831, -0.00015564])]\n",
            "                 x: array([5.40469544, 1.00589626, 5.28151097])\n",
            "2.5\n"
          ]
        }
      ]
    },
    {
      "cell_type": "code",
      "source": [
        "param[0]"
      ],
      "metadata": {
        "colab": {
          "base_uri": "https://localhost:8080/"
        },
        "id": "B9TXBXDjYh_n",
        "outputId": "4906154a-c01e-45cb-9232-d5c688deccee"
      },
      "execution_count": null,
      "outputs": [
        {
          "output_type": "execute_result",
          "data": {
            "text/plain": [
              "10"
            ]
          },
          "metadata": {},
          "execution_count": 10
        }
      ]
    },
    {
      "cell_type": "code",
      "execution_count": null,
      "metadata": {
        "colab": {
          "base_uri": "https://localhost:8080/"
        },
        "id": "WEGb20ciQIcn",
        "outputId": "7cc26c8e-1236-4a5c-d9d2-5fe9ced3dd38"
      },
      "outputs": [
        {
          "output_type": "execute_result",
          "data": {
            "text/plain": [
              "4179.24965065008"
            ]
          },
          "metadata": {},
          "execution_count": 11
        }
      ],
      "source": [
        "import numpy as np\n",
        "m=4472.9/(2*(np.pi))\n",
        "m\n",
        "n=26259/(2*np.pi)\n",
        "n"
      ]
    },
    {
      "cell_type": "code",
      "execution_count": null,
      "metadata": {
        "colab": {
          "base_uri": "https://localhost:8080/"
        },
        "id": "EZblwGXIgcLZ",
        "outputId": "d78b3940-401f-4eb6-f26b-9cc814d59120"
      },
      "outputs": [
        {
          "output_type": "stream",
          "name": "stdout",
          "text": [
            "[0. 0. 0.]\n"
          ]
        }
      ],
      "source": [
        "def f(params):\n",
        "  #print(params)  <-- you'll see that the params is a numpy array\n",
        "  height ,N_splits, N_cells = params\n",
        "  return (34.851*(height)**2 +1992.5*height+12533)*(N_splits)*(N_cells/2)\n",
        "initial_guess = [0,0,0]\n",
        "result = optimize.minimize(f, initial_guess)\n",
        "if result.success:\n",
        "  fitted_params = result.x\n",
        "  print(fitted_params)\n",
        "else:\n",
        "  raise ValueError(result.message)"
      ]
    },
    {
      "cell_type": "code",
      "execution_count": null,
      "metadata": {
        "id": "tPoKFoa9GdA3",
        "colab": {
          "base_uri": "https://localhost:8080/"
        },
        "outputId": "f1e1ae6f-0a50-4c63-8f2e-a48a9cd5e4db"
      },
      "outputs": [
        {
          "output_type": "stream",
          "name": "stdout",
          "text": [
            "Maximum 1.0 attained at [1.57079632]\n"
          ]
        }
      ],
      "source": [
        "from scipy.optimize import minimize\n",
        "import numpy as np\n",
        "f = lambda x: np.sin(x)  # function to be MAXIMIZED\n",
        "res = minimize(lambda x: -f(x), 0)\n",
        "print('Maximum {} attained at {}'.format(-res.fun, res.x))\n"
      ]
    },
    {
      "cell_type": "code",
      "source": [
        "help ()"
      ],
      "metadata": {
        "colab": {
          "base_uri": "https://localhost:8080/"
        },
        "id": "5E8ADU6xP9c8",
        "outputId": "807f9fe8-9831-4aa2-9b03-bde06758a6c4"
      },
      "execution_count": null,
      "outputs": [
        {
          "output_type": "stream",
          "name": "stdout",
          "text": [
            "\n",
            "Welcome to Python 3.8's help utility!\n",
            "\n",
            "If this is your first time using Python, you should definitely check out\n",
            "the tutorial on the Internet at https://docs.python.org/3.8/tutorial/.\n",
            "\n",
            "Enter the name of any module, keyword, or topic to get help on writing\n",
            "Python programs and using Python modules.  To quit this help utility and\n",
            "return to the interpreter, just type \"quit\".\n",
            "\n",
            "To get a list of available modules, keywords, symbols, or topics, type\n",
            "\"modules\", \"keywords\", \"symbols\", or \"topics\".  Each module also comes\n",
            "with a one-line summary of what it does; to list the modules whose name\n",
            "or summary contain a given string such as \"spam\", type \"modules spam\".\n",
            "\n",
            "\n",
            "You are now leaving help and returning to the Python interpreter.\n",
            "If you want to ask for help on a particular object directly from the\n",
            "interpreter, you can type \"help(object)\".  Executing \"help('string')\"\n",
            "has the same effect as typing a particular string at the help> prompt.\n"
          ]
        }
      ]
    },
    {
      "cell_type": "code",
      "source": [],
      "metadata": {
        "id": "7ERRvQvRQVus"
      },
      "execution_count": null,
      "outputs": []
    }
  ],
  "metadata": {
    "colab": {
      "provenance": []
    },
    "kernelspec": {
      "display_name": "Python 3 (ipykernel)",
      "language": "python",
      "name": "python3"
    },
    "language_info": {
      "codemirror_mode": {
        "name": "ipython",
        "version": 3
      },
      "file_extension": ".py",
      "mimetype": "text/x-python",
      "name": "python",
      "nbconvert_exporter": "python",
      "pygments_lexer": "ipython3",
      "version": "3.9.12"
    }
  },
  "nbformat": 4,
  "nbformat_minor": 0
}